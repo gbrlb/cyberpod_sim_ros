{
 "cells": [
  {
   "cell_type": "code",
   "execution_count": 16,
   "metadata": {},
   "outputs": [],
   "source": [
    "import numpy as np\n",
    "import sys\n",
    "sys.path.append('../src/src_python/')\n",
    "from dynamics import dynamics\n",
    "\n",
    "import matplotlib.pyplot as plt"
   ]
  },
  {
   "cell_type": "markdown",
   "metadata": {},
   "source": [
    "We plot the condition\n",
    "\n",
    "$$ \\epsilon < \\max\\left\\{ \\frac{\\left \\|L_\\mathbf{g}h(\\mathbf{x}) \\right\\|}{2\\mathfrak{L}_{L_\\mathbf{g}h}}, \\frac{L_\\mathbf{f}h(\\mathbf{x}) +  \\alpha(h(\\mathbf{x}))}{(\\mathfrak{L}_{L_\\mathbf{f}h} + \\mathfrak{L}_{\\alpha \\circ h})} \\right\\} $$\n",
    "\n",
    "x dot, theta, and theta dot\n"
   ]
  },
  {
   "cell_type": "code",
   "execution_count": 57,
   "metadata": {},
   "outputs": [],
   "source": [
    "# code from ECOS filter and ecos.launch\n",
    "\n",
    "L_Lgh = 1# 0.5\n",
    "L_Lfh = 1 #0.1\n",
    "L_ah = 5\n",
    "alpha = 10\n",
    "C = 1 # TODO: not sure which param this should be\n",
    "\n",
    "def get_fns(x):\n",
    "    \n",
    "    f,g = dynamics(x)\n",
    "    x5_eq = 0.138\n",
    "    # todo: should only certain components count?\n",
    "    Lfh = -x[6]*(x[5] - x5_eq + f[6])\n",
    "    Lgh = -x[6]*g[6,[0,1]]  \n",
    "    ah = alpha * (-1/2*((x[5]-x5_eq)**2 + x[6]**2) + C)\n",
    "    \n",
    "    return Lgh, Lfh, ah\n",
    "\n",
    "def get_bd(x):\n",
    "    Lgh, Lfh, ah = get_fns(x)\n",
    "    return max(np.linalg.norm(Lgh) / (2*L_Lgh), (Lfh + ah)/(2*(L_Lfh+L_ah)))"
   ]
  },
  {
   "cell_type": "code",
   "execution_count": 58,
   "metadata": {},
   "outputs": [],
   "source": [
    "train_data_fn = 'gridded_data.csv'\n",
    "data = np.load('../data/' + train_data_fn.split('.')[0] + '_processed.npz')\n",
    "states = data['states']\n"
   ]
  },
  {
   "cell_type": "code",
   "execution_count": 59,
   "metadata": {},
   "outputs": [],
   "source": [
    "# constructing a grid of the states\n",
    "\n",
    "# specifying upper_bd, lower_bd, num_grid\n",
    "grid_limits = np.array([[-1, 1, 20], # x\n",
    "                        [-6, 6, 20], # xd\n",
    "                        [0, 0, 1],\n",
    "                        [0, 0, 1],\n",
    "                        [0, 0, 1],\n",
    "                        [-1, 1, 20], # theta\n",
    "                        [-6,6, 20]]) # thetad\n",
    "\n",
    "# computing bound on eps for all of these values\n",
    "eps_of_x = -np.inf * np.ones(grid_limits[:,2])\n",
    "for i0, x0 in enumerate(np.linspace(*grid_limits[0])):\n",
    "    for i1, x1 in enumerate(np.linspace(*grid_limits[1])):\n",
    "        for i2, x2 in enumerate(np.linspace(*grid_limits[2])):\n",
    "            for i3, x3 in enumerate(np.linspace(*grid_limits[3])):\n",
    "                for i4, x4 in enumerate(np.linspace(*grid_limits[4])):\n",
    "                    for i5, x5 in enumerate(np.linspace(*grid_limits[5])):\n",
    "                        for i6, x6 in enumerate(np.linspace(*grid_limits[6])):\n",
    "                            eps_of_x[i0, i1, i2, i3, i4, i5, i6] = get_bd(np.array([x0, x1, x2, x3, x4, x5, x6]))"
   ]
  },
  {
   "cell_type": "code",
   "execution_count": 60,
   "metadata": {},
   "outputs": [
    {
     "data": {
      "text/plain": [
       "(20, 20, 1, 1, 1, 20, 20)"
      ]
     },
     "execution_count": 60,
     "metadata": {},
     "output_type": "execute_result"
    }
   ],
   "source": [
    "eps_of_x.shape"
   ]
  },
  {
   "cell_type": "code",
   "execution_count": 61,
   "metadata": {},
   "outputs": [
    {
     "data": {
      "text/plain": [
       "(20, 20)"
      ]
     },
     "execution_count": 61,
     "metadata": {},
     "output_type": "execute_result"
    }
   ],
   "source": [
    "np.min(eps_of_x, axis=(1,2,3,4,6)).shape"
   ]
  },
  {
   "cell_type": "code",
   "execution_count": 62,
   "metadata": {},
   "outputs": [],
   "source": [
    "eps_bounds = []\n",
    "for state in states:\n",
    "    # TODO need to max over all other state dimensions\n",
    "    eps_bounds.append(get_bd(state))"
   ]
  },
  {
   "cell_type": "code",
   "execution_count": 63,
   "metadata": {},
   "outputs": [
    {
     "data": {
      "text/plain": [
       "<matplotlib.colorbar.Colorbar at 0x7f11c866ad90>"
      ]
     },
     "execution_count": 63,
     "metadata": {},
     "output_type": "execute_result"
    },
    {
     "data": {
      "image/png": "[encoded data removed]",
      "text/plain": [
       "<Figure size 432x288 with 2 Axes>"
      ]
     },
     "metadata": {
      "needs_background": "light"
     },
     "output_type": "display_data"
    }
   ],
   "source": [
    "xpos = np.linspace(*grid_limits[0])\n",
    "ypos = np.linspace(*grid_limits[5])\n",
    "colors = np.min(eps_of_x, axis=(1,2,3,4,6))\n",
    "\n",
    "plt.figure()\n",
    "plt.imshow(colors)\n",
    "plt.colorbar()"
   ]
  },
  {
   "cell_type": "code",
   "execution_count": 30,
   "metadata": {},
   "outputs": [
    {
     "data": {
      "text/plain": [
       "(751, 7)"
      ]
     },
     "execution_count": 30,
     "metadata": {},
     "output_type": "execute_result"
    }
   ],
   "source": [
    "states.shape"
   ]
  },
  {
   "cell_type": "code",
   "execution_count": null,
   "metadata": {},
   "outputs": [],
   "source": []
  }
 ],
 "metadata": {
  "kernelspec": {
   "display_name": "Python 3",
   "language": "python",
   "name": "python3"
  },
  "language_info": {
   "codemirror_mode": {
    "name": "ipython",
    "version": 3
   },
   "file_extension": ".py",
   "mimetype": "text/x-python",
   "name": "python",
   "nbconvert_exporter": "python",
   "pygments_lexer": "ipython3",
   "version": "3.7.4"
  }
 },
 "nbformat": 4,
 "nbformat_minor": 2
}
