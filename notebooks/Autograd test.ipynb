{
 "cells": [
  {
   "cell_type": "code",
   "execution_count": 19,
   "metadata": {},
   "outputs": [],
   "source": [
    "import autograd.numpy as np\n",
    "from autograd import grad \n",
    "from autograd import jacobian"
   ]
  },
  {
   "cell_type": "code",
   "execution_count": 56,
   "metadata": {},
   "outputs": [],
   "source": [
    "\n",
    "model = [44.798,       #mb\n",
    "    2.485,             #mw\n",
    "    0.055936595310797, #Jw\n",
    "    -0.02322718759275, #a2\n",
    "    0.166845864363019, #c2\n",
    "    3.604960049044268, #A2\n",
    "    3.836289730154863, #B2\n",
    "    1.069672194414735, #C2\n",
    "    1.261650363363571, #K\n",
    "    0.195,             #r\n",
    "    0.5,               #L\n",
    "    9.81,              #gGravity\n",
    "    0.,                #FricCoeff 3.185188257847262\n",
    "    1.0e-3,            #velEps\n",
    "    1.225479467549329  #FricCoeff 1.225479467549329 \n",
    "    ]\n",
    "\n",
    "\n",
    "def dynamics(X):\n",
    "\n",
    "    f_drift = [0] * 7 # len(X) # np.zeros((len(X),1))\n",
    "    g_input_matrix = np.zeros((len(X),2))\n",
    "\n",
    "    Fric = X[3] - X[6] * model[9]\n",
    "    Fric = model[12] * np.tanh(Fric / model[13]) + model[14] * Fric\n",
    "    a_tmp = np.cos(X[5])\n",
    "    b_a_tmp = np.sin(X[5])\n",
    "    f_drift[0] = X[3] * np.cos(X[2])\n",
    "    f_drift[1] = X[3] * np.sin(X[2])\n",
    "    f_drift[2] = X[4]\n",
    "    f_tmp = model[3] * model[3]\n",
    "    b_f_tmp = model[9] * model[9]\n",
    "    c_f_tmp = model[4] * model[4]\n",
    "    d_f_tmp = model[0] * model[0]\n",
    "    e_f_tmp = 4.0 * f_tmp\n",
    "    f_f_tmp = 4.0 * c_f_tmp\n",
    "    g_f_tmp = X[4] * X[4]\n",
    "    h_f_tmp = X[6] * X[6]\n",
    "    i_f_tmp = 4.0 * h_f_tmp + 3.0 * g_f_tmp\n",
    "    j_f_tmp = np.cos(2.0 * X[5])\n",
    "    k_f_tmp = np.cos(3.0 * X[5])\n",
    "    l_f_tmp = np.power(model[3], 3.0)\n",
    "    m_f_tmp = 4.0 * model[6] * model[4] * model[0]\n",
    "    n_f_tmp = pow(model[4], 3.0)\n",
    "    o_f_tmp = np.sin(2.0 * X[5])\n",
    "    p_f_tmp = model[5] * model[4] * model[0] * model[9] * g_f_tmp\n",
    "    q_f_tmp = -model[4] * model[7] * model[0] * model[9] * g_f_tmp\n",
    "    r_f_tmp = np.sin(3.0 * X[5])\n",
    "    s_f_tmp = 3.0 * f_tmp * model[4] * d_f_tmp * model[9] * g_f_tmp\n",
    "    t_f_tmp = -4.0 * model[3] * model[4]\n",
    "    u_f_tmp = 2.0 * model[3] * model[4]\n",
    "    v_f_tmp = f_tmp * d_f_tmp\n",
    "    f_tmp_tmp = v_f_tmp * b_f_tmp\n",
    "    b_f_tmp_tmp = c_f_tmp * d_f_tmp * b_f_tmp\n",
    "    f_f_tmp = 1.0 / ((((((((((4.0 * model[6] * model[2] + e_f_tmp * model[2] *\n",
    "        model[0]) + f_f_tmp * model[2] * model[0]) + 2.0 * model[6] * model[0] *\n",
    "    b_f_tmp) + f_tmp_tmp) + b_f_tmp_tmp) + 4.0 * model[6] * model[1] * b_f_tmp)\n",
    "    + e_f_tmp * model[0] * model[1] * b_f_tmp) + f_f_tmp *\n",
    "    model[0] * model[1] * b_f_tmp) + (f_tmp + -c_f_tmp) *\n",
    "    d_f_tmp * b_f_tmp * j_f_tmp) + u_f_tmp * d_f_tmp * b_f_tmp *\n",
    "    o_f_tmp)\n",
    "    w_f_tmp = 2.0 * f_tmp\n",
    "    f_drift[3] = 0.5 * model[9] * f_f_tmp * (((((((((((((((((((((((-8.0 * model[6] *\n",
    "        Fric + -8.0 * f_tmp * Fric * model[0]) + -8.0 * c_f_tmp * Fric * model[0]) +\n",
    "    model[0] * model[9] * ((((-8.0 * model[4] * Fric + model[3] * (-model[5] +\n",
    "        model[7]) * g_f_tmp) + 4.0 * model[3] * model[6] * (h_f_tmp + g_f_tmp)) +\n",
    "    l_f_tmp * model[0] * i_f_tmp) + model[3] * c_f_tmp * model[0] * i_f_tmp) *\n",
    "    a_tmp) + t_f_tmp * model[11] * d_f_tmp * model[9] * j_f_tmp) + model[3] *\n",
    "    model[5] * model[0] * model[9] * g_f_tmp * k_f_tmp) + -model[3] * model[7] *\n",
    "    model[0] * model[9] * g_f_tmp * k_f_tmp) + l_f_tmp * d_f_tmp * model[9] *\n",
    "    g_f_tmp * k_f_tmp) + -3.0 * model[3] * c_f_tmp * d_f_tmp * model[9] *\n",
    "    g_f_tmp * k_f_tmp) + 8.0 * model[3] * Fric * model[0] * model[9] * b_a_tmp)\n",
    "    + m_f_tmp * h_f_tmp * model[9] * b_a_tmp) + e_f_tmp * model[4] * d_f_tmp *\n",
    "    h_f_tmp * model[9] * b_a_tmp) + 4.0 * n_f_tmp * d_f_tmp * h_f_tmp * model[9]\n",
    "    * b_a_tmp) + p_f_tmp * b_a_tmp) + m_f_tmp * model[9] * g_f_tmp * b_a_tmp) +\n",
    "    q_f_tmp * b_a_tmp) + s_f_tmp * b_a_tmp) + 3.0 * n_f_tmp * d_f_tmp * model[9]\n",
    "    * g_f_tmp * b_a_tmp) + w_f_tmp * model[11] * d_f_tmp * model[9] * o_f_tmp) +\n",
    "    -2.0 * c_f_tmp * model[11] * d_f_tmp * model[9] * o_f_tmp) + p_f_tmp *\n",
    "    r_f_tmp) + q_f_tmp * r_f_tmp) + s_f_tmp * r_f_tmp) + -n_f_tmp * d_f_tmp *\n",
    "    model[9] * g_f_tmp * r_f_tmp)\n",
    "    e_f_tmp = model[10] * model[10]\n",
    "    i_f_tmp = -2.0 * f_tmp\n",
    "    k_f_tmp = 2.0 * c_f_tmp\n",
    "    l_f_tmp = i_f_tmp * model[0]\n",
    "    m_f_tmp = k_f_tmp * model[0]\n",
    "    n_f_tmp = f_tmp * model[0]\n",
    "    c_f_tmp *= model[0]\n",
    "    p_f_tmp = model[4] * model[0]\n",
    "    q_f_tmp = model[2] * e_f_tmp\n",
    "    e_f_tmp *= model[1]\n",
    "    r_f_tmp = 2.0 * (model[7] + n_f_tmp)\n",
    "    s_f_tmp = 2.0 * (model[5] + c_f_tmp)\n",
    "    u_f_tmp *= model[0]\n",
    "    f_drift[4] = b_f_tmp * X[4] * ((-2.0 * model[3] * model[0] * X[3] * a_tmp + t_f_tmp *\n",
    "            model[0] * X[6] * j_f_tmp) + -2.0 * (p_f_tmp * X[3] + (((model[5] + -model[7])\n",
    "            + l_f_tmp) + m_f_tmp) * X[6] * a_tmp) * b_a_tmp) * (1.0 / ((((q_f_tmp +\n",
    "            e_f_tmp * b_f_tmp) + r_f_tmp * b_f_tmp * (a_tmp * a_tmp)) + s_f_tmp *\n",
    "            b_f_tmp * (b_a_tmp * b_a_tmp)) + u_f_tmp * b_f_tmp * o_f_tmp))\n",
    "    f_drift[5] = X[6]\n",
    "    t_f_tmp = 4.0 * model[4] * model[11]\n",
    "    k_f_tmp = k_f_tmp * model[2] * model[0]\n",
    "    m_f_tmp = m_f_tmp * model[1] * b_f_tmp\n",
    "    x_f_tmp = -(model[4] * model[4]) * d_f_tmp\n",
    "    f_drift[6] = f_f_tmp * ((((((((((((((((((((8.0 * Fric * model[2] + 4.0 * Fric *\n",
    "            model[0] * b_f_tmp) + 8.0 * Fric * model[1] * b_f_tmp) + 2.0 * model[0] *\n",
    "            (2.0 * model[4] * Fric * model[9] + model[3] * model[11] * (2.0 * model[2] +\n",
    "            (model[0] + 2.0 * model[1]) * b_f_tmp)) * a_tmp) + -2.0 * model[3] * model[4]\n",
    "            * model[0] * (model[0] * h_f_tmp * b_f_tmp + -2.0 * (model[2] + model[1] *\n",
    "            b_f_tmp) * g_f_tmp) * j_f_tmp) + t_f_tmp * model[2] * model[0] * b_a_tmp) +\n",
    "            -4.0 * model[3] * Fric * model[0] * model[9] * b_a_tmp) + 2.0 * model[4] *\n",
    "            model[11] * d_f_tmp * b_f_tmp * b_a_tmp) + t_f_tmp * model[0] * model[1] *\n",
    "            b_f_tmp * b_a_tmp) + v_f_tmp * h_f_tmp * b_f_tmp * o_f_tmp) + x_f_tmp *\n",
    "            h_f_tmp * b_f_tmp * o_f_tmp) + -2.0 * model[5] * model[2] * g_f_tmp *\n",
    "            o_f_tmp) + 2.0 * model[7] * model[2] * g_f_tmp * o_f_tmp) + i_f_tmp * model\n",
    "            [2] * model[0] * g_f_tmp * o_f_tmp) + k_f_tmp * g_f_tmp * o_f_tmp) + -model\n",
    "            [5] * model[0] * b_f_tmp * g_f_tmp * o_f_tmp) + model[7] * model[0] *\n",
    "            b_f_tmp * g_f_tmp * o_f_tmp) + -2.0 * model[5] * model[1]\n",
    "            * b_f_tmp * g_f_tmp * o_f_tmp) + 2.0 * model[7] * model[1]\n",
    "            * b_f_tmp * g_f_tmp * o_f_tmp) + l_f_tmp * model[1] *\n",
    "            b_f_tmp * g_f_tmp * o_f_tmp) + m_f_tmp * g_f_tmp * o_f_tmp)\n",
    "    t_f_tmp = x_f_tmp * b_f_tmp\n",
    "    l_f_tmp = (((((((2.0 * model[6] * model[2] + w_f_tmp * model[2] * model[0]) +\n",
    "            k_f_tmp) + model[6] * model[0] * b_f_tmp) + f_tmp_tmp) +\n",
    "            b_f_tmp_tmp) + 2.0 * model[6] * model[1] * b_f_tmp) + w_f_tmp *\n",
    "            model[0] * model[1] * b_f_tmp) + m_f_tmp\n",
    "    j_f_tmp = -f_tmp * d_f_tmp * b_f_tmp\n",
    "    i_f_tmp = model[3] * model[4] * d_f_tmp * b_f_tmp * o_f_tmp\n",
    "    g_f_tmp = p_f_tmp * model[9] * a_tmp\n",
    "    h_f_tmp = -model[3] * model[0] * model[9] * b_a_tmp\n",
    "\n",
    "    Fric = model[8] * model[9] * ((((model[6] + n_f_tmp) + c_f_tmp) + g_f_tmp) +\n",
    "            h_f_tmp)\n",
    "#     g_input_matrix[3,0] = Fric * (1.0 / (((l_f_tmp + t_f_tmp * (a_tmp * a_tmp)) + j_f_tmp *\n",
    "#             (b_a_tmp * b_a_tmp)) + i_f_tmp))\n",
    "#     g_input_matrix[3,1] = Fric * (1.0 / (((l_f_tmp + t_f_tmp * (a_tmp * a_tmp)) + j_f_tmp *\n",
    "#             (b_a_tmp * b_a_tmp)) + i_f_tmp))\n",
    "#     t_f_tmp = r_f_tmp * model[9]\n",
    "#     l_f_tmp = q_f_tmp * (1.0 / model[9]) + e_f_tmp * model[9]\n",
    "#     j_f_tmp = s_f_tmp * model[9]\n",
    "#     i_f_tmp = u_f_tmp * model[9] * o_f_tmp\n",
    "#     g_input_matrix[4,0] = -model[8] * model[10] * (1.0 / (((l_f_tmp + t_f_tmp * (a_tmp * a_tmp))\n",
    "#             + j_f_tmp * (b_a_tmp * b_a_tmp)) + i_f_tmp))\n",
    "#     g_input_matrix[4,1] = model[8] * model[10] * (1.0 / (((l_f_tmp + t_f_tmp * (a_tmp * a_tmp))\n",
    "#             + j_f_tmp * (b_a_tmp * b_a_tmp)) + i_f_tmp))\n",
    "#     g_input_matrix[0,0] = 0.0\n",
    "#     g_input_matrix[1,0] = 0.0\n",
    "#     g_input_matrix[2,0] = 0.0\n",
    "#     g_input_matrix[5,0] = 0.0\n",
    "#     g_input_matrix[0,1] = 0.0\n",
    "#     g_input_matrix[1,1] = 0.0\n",
    "#     g_input_matrix[2,1] = 0.0\n",
    "#     g_input_matrix[5,1] = 0.0\n",
    "#     t_f_tmp = -2.0 * model[8] * ((((2.0 * model[2] + model[0] * b_f_tmp) + 2.0 *\n",
    "#     model[1] * b_f_tmp) + g_f_tmp) + h_f_tmp) * f_f_tmp\n",
    "#     g_input_matrix[6,0] = t_f_tmp\n",
    "#     g_input_matrix[6,1] = t_f_tmp\n",
    "\n",
    "    return f_drift #, g_input_matrix\n",
    "\n",
    "\n",
    "\n"
   ]
  },
  {
   "cell_type": "code",
   "execution_count": 57,
   "metadata": {},
   "outputs": [],
   "source": [
    "grad_dyn = grad(dynamics)\n",
    "jac_dyn = jacobian(dynamics)      "
   ]
  },
  {
   "cell_type": "code",
   "execution_count": 59,
   "metadata": {},
   "outputs": [
    {
     "data": {
      "text/plain": [
       "[0.0, 0.0, 0.0, 0.3576033172522321, 0.0, 0.0, -2.5218617364471996]"
      ]
     },
     "execution_count": 59,
     "metadata": {},
     "output_type": "execute_result"
    }
   ],
   "source": [
    "dynamics(np.zeros(7))"
   ]
  },
  {
   "cell_type": "code",
   "execution_count": 61,
   "metadata": {},
   "outputs": [
    {
     "ename": "TypeError",
     "evalue": "can only concatenate list (not \"tuple\") to list",
     "output_type": "error",
     "traceback": [
      "\u001b[0;31m---------------------------------------------------------------------------\u001b[0m",
      "\u001b[0;31mTypeError\u001b[0m                                 Traceback (most recent call last)",
      "\u001b[0;32m<ipython-input-61-726ef026e43e>\u001b[0m in \u001b[0;36m<module>\u001b[0;34m\u001b[0m\n\u001b[0;32m----> 1\u001b[0;31m \u001b[0mjac_dyn\u001b[0m\u001b[0;34m(\u001b[0m\u001b[0mnp\u001b[0m\u001b[0;34m.\u001b[0m\u001b[0mzeros\u001b[0m\u001b[0;34m(\u001b[0m\u001b[0;36m7\u001b[0m\u001b[0;34m)\u001b[0m\u001b[0;34m)\u001b[0m\u001b[0;34m\u001b[0m\u001b[0;34m\u001b[0m\u001b[0m\n\u001b[0m",
      "\u001b[0;32m~/anaconda3/lib/python3.7/site-packages/autograd/wrap_util.py\u001b[0m in \u001b[0;36mnary_f\u001b[0;34m(*args, **kwargs)\u001b[0m\n\u001b[1;32m     18\u001b[0m             \u001b[0;32melse\u001b[0m\u001b[0;34m:\u001b[0m\u001b[0;34m\u001b[0m\u001b[0;34m\u001b[0m\u001b[0m\n\u001b[1;32m     19\u001b[0m                 \u001b[0mx\u001b[0m \u001b[0;34m=\u001b[0m \u001b[0mtuple\u001b[0m\u001b[0;34m(\u001b[0m\u001b[0margs\u001b[0m\u001b[0;34m[\u001b[0m\u001b[0mi\u001b[0m\u001b[0;34m]\u001b[0m \u001b[0;32mfor\u001b[0m \u001b[0mi\u001b[0m \u001b[0;32min\u001b[0m \u001b[0margnum\u001b[0m\u001b[0;34m)\u001b[0m\u001b[0;34m\u001b[0m\u001b[0;34m\u001b[0m\u001b[0m\n\u001b[0;32m---> 20\u001b[0;31m             \u001b[0;32mreturn\u001b[0m \u001b[0munary_operator\u001b[0m\u001b[0;34m(\u001b[0m\u001b[0munary_f\u001b[0m\u001b[0;34m,\u001b[0m \u001b[0mx\u001b[0m\u001b[0;34m,\u001b[0m \u001b[0;34m*\u001b[0m\u001b[0mnary_op_args\u001b[0m\u001b[0;34m,\u001b[0m \u001b[0;34m**\u001b[0m\u001b[0mnary_op_kwargs\u001b[0m\u001b[0;34m)\u001b[0m\u001b[0;34m\u001b[0m\u001b[0;34m\u001b[0m\u001b[0m\n\u001b[0m\u001b[1;32m     21\u001b[0m         \u001b[0;32mreturn\u001b[0m \u001b[0mnary_f\u001b[0m\u001b[0;34m\u001b[0m\u001b[0;34m\u001b[0m\u001b[0m\n\u001b[1;32m     22\u001b[0m     \u001b[0;32mreturn\u001b[0m \u001b[0mnary_operator\u001b[0m\u001b[0;34m\u001b[0m\u001b[0;34m\u001b[0m\u001b[0m\n",
      "\u001b[0;32m~/anaconda3/lib/python3.7/site-packages/autograd/differential_operators.py\u001b[0m in \u001b[0;36mjacobian\u001b[0;34m(fun, x)\u001b[0m\n\u001b[1;32m     57\u001b[0m     \u001b[0mvjp\u001b[0m\u001b[0;34m,\u001b[0m \u001b[0mans\u001b[0m \u001b[0;34m=\u001b[0m \u001b[0m_make_vjp\u001b[0m\u001b[0;34m(\u001b[0m\u001b[0mfun\u001b[0m\u001b[0;34m,\u001b[0m \u001b[0mx\u001b[0m\u001b[0;34m)\u001b[0m\u001b[0;34m\u001b[0m\u001b[0;34m\u001b[0m\u001b[0m\n\u001b[1;32m     58\u001b[0m     \u001b[0mans_vspace\u001b[0m \u001b[0;34m=\u001b[0m \u001b[0mvspace\u001b[0m\u001b[0;34m(\u001b[0m\u001b[0mans\u001b[0m\u001b[0;34m)\u001b[0m\u001b[0;34m\u001b[0m\u001b[0;34m\u001b[0m\u001b[0m\n\u001b[0;32m---> 59\u001b[0;31m     \u001b[0mjacobian_shape\u001b[0m \u001b[0;34m=\u001b[0m \u001b[0mans_vspace\u001b[0m\u001b[0;34m.\u001b[0m\u001b[0mshape\u001b[0m \u001b[0;34m+\u001b[0m \u001b[0mvspace\u001b[0m\u001b[0;34m(\u001b[0m\u001b[0mx\u001b[0m\u001b[0;34m)\u001b[0m\u001b[0;34m.\u001b[0m\u001b[0mshape\u001b[0m\u001b[0;34m\u001b[0m\u001b[0;34m\u001b[0m\u001b[0m\n\u001b[0m\u001b[1;32m     60\u001b[0m     \u001b[0mgrads\u001b[0m \u001b[0;34m=\u001b[0m \u001b[0mmap\u001b[0m\u001b[0;34m(\u001b[0m\u001b[0mvjp\u001b[0m\u001b[0;34m,\u001b[0m \u001b[0mans_vspace\u001b[0m\u001b[0;34m.\u001b[0m\u001b[0mstandard_basis\u001b[0m\u001b[0;34m(\u001b[0m\u001b[0;34m)\u001b[0m\u001b[0;34m)\u001b[0m\u001b[0;34m\u001b[0m\u001b[0;34m\u001b[0m\u001b[0m\n\u001b[1;32m     61\u001b[0m     \u001b[0;32mreturn\u001b[0m \u001b[0mnp\u001b[0m\u001b[0;34m.\u001b[0m\u001b[0mreshape\u001b[0m\u001b[0;34m(\u001b[0m\u001b[0mnp\u001b[0m\u001b[0;34m.\u001b[0m\u001b[0mstack\u001b[0m\u001b[0;34m(\u001b[0m\u001b[0mgrads\u001b[0m\u001b[0;34m)\u001b[0m\u001b[0;34m,\u001b[0m \u001b[0mjacobian_shape\u001b[0m\u001b[0;34m)\u001b[0m\u001b[0;34m\u001b[0m\u001b[0;34m\u001b[0m\u001b[0m\n",
      "\u001b[0;31mTypeError\u001b[0m: can only concatenate list (not \"tuple\") to list"
     ]
    }
   ],
   "source": [
    "jac_dyn(np.zeros(7))"
   ]
  },
  {
   "cell_type": "code",
   "execution_count": 55,
   "metadata": {},
   "outputs": [
    {
     "ename": "TypeError",
     "evalue": "can only concatenate list (not \"tuple\") to list",
     "output_type": "error",
     "traceback": [
      "\u001b[0;31m---------------------------------------------------------------------------\u001b[0m",
      "\u001b[0;31mTypeError\u001b[0m                                 Traceback (most recent call last)",
      "\u001b[0;32m<ipython-input-55-2ad533b0a1fb>\u001b[0m in \u001b[0;36m<module>\u001b[0;34m\u001b[0m\n\u001b[0;32m----> 1\u001b[0;31m \u001b[0mjac_dyn\u001b[0m\u001b[0;34m(\u001b[0m\u001b[0;36m0.\u001b[0m\u001b[0;34m,\u001b[0m\u001b[0;36m0.\u001b[0m\u001b[0;34m,\u001b[0m\u001b[0;36m0.\u001b[0m\u001b[0;34m,\u001b[0m\u001b[0;36m0.\u001b[0m\u001b[0;34m,\u001b[0m\u001b[0;36m0.\u001b[0m\u001b[0;34m,\u001b[0m\u001b[0;36m0.\u001b[0m\u001b[0;34m,\u001b[0m\u001b[0;36m0.\u001b[0m\u001b[0;34m)\u001b[0m\u001b[0;34m\u001b[0m\u001b[0;34m\u001b[0m\u001b[0m\n\u001b[0m",
      "\u001b[0;32m~/anaconda3/lib/python3.7/site-packages/autograd/wrap_util.py\u001b[0m in \u001b[0;36mnary_f\u001b[0;34m(*args, **kwargs)\u001b[0m\n\u001b[1;32m     18\u001b[0m             \u001b[0;32melse\u001b[0m\u001b[0;34m:\u001b[0m\u001b[0;34m\u001b[0m\u001b[0;34m\u001b[0m\u001b[0m\n\u001b[1;32m     19\u001b[0m                 \u001b[0mx\u001b[0m \u001b[0;34m=\u001b[0m \u001b[0mtuple\u001b[0m\u001b[0;34m(\u001b[0m\u001b[0margs\u001b[0m\u001b[0;34m[\u001b[0m\u001b[0mi\u001b[0m\u001b[0;34m]\u001b[0m \u001b[0;32mfor\u001b[0m \u001b[0mi\u001b[0m \u001b[0;32min\u001b[0m \u001b[0margnum\u001b[0m\u001b[0;34m)\u001b[0m\u001b[0;34m\u001b[0m\u001b[0;34m\u001b[0m\u001b[0m\n\u001b[0;32m---> 20\u001b[0;31m             \u001b[0;32mreturn\u001b[0m \u001b[0munary_operator\u001b[0m\u001b[0;34m(\u001b[0m\u001b[0munary_f\u001b[0m\u001b[0;34m,\u001b[0m \u001b[0mx\u001b[0m\u001b[0;34m,\u001b[0m \u001b[0;34m*\u001b[0m\u001b[0mnary_op_args\u001b[0m\u001b[0;34m,\u001b[0m \u001b[0;34m**\u001b[0m\u001b[0mnary_op_kwargs\u001b[0m\u001b[0;34m)\u001b[0m\u001b[0;34m\u001b[0m\u001b[0;34m\u001b[0m\u001b[0m\n\u001b[0m\u001b[1;32m     21\u001b[0m         \u001b[0;32mreturn\u001b[0m \u001b[0mnary_f\u001b[0m\u001b[0;34m\u001b[0m\u001b[0;34m\u001b[0m\u001b[0m\n\u001b[1;32m     22\u001b[0m     \u001b[0;32mreturn\u001b[0m \u001b[0mnary_operator\u001b[0m\u001b[0;34m\u001b[0m\u001b[0;34m\u001b[0m\u001b[0m\n",
      "\u001b[0;32m~/anaconda3/lib/python3.7/site-packages/autograd/differential_operators.py\u001b[0m in \u001b[0;36mjacobian\u001b[0;34m(fun, x)\u001b[0m\n\u001b[1;32m     57\u001b[0m     \u001b[0mvjp\u001b[0m\u001b[0;34m,\u001b[0m \u001b[0mans\u001b[0m \u001b[0;34m=\u001b[0m \u001b[0m_make_vjp\u001b[0m\u001b[0;34m(\u001b[0m\u001b[0mfun\u001b[0m\u001b[0;34m,\u001b[0m \u001b[0mx\u001b[0m\u001b[0;34m)\u001b[0m\u001b[0;34m\u001b[0m\u001b[0;34m\u001b[0m\u001b[0m\n\u001b[1;32m     58\u001b[0m     \u001b[0mans_vspace\u001b[0m \u001b[0;34m=\u001b[0m \u001b[0mvspace\u001b[0m\u001b[0;34m(\u001b[0m\u001b[0mans\u001b[0m\u001b[0;34m)\u001b[0m\u001b[0;34m\u001b[0m\u001b[0;34m\u001b[0m\u001b[0m\n\u001b[0;32m---> 59\u001b[0;31m     \u001b[0mjacobian_shape\u001b[0m \u001b[0;34m=\u001b[0m \u001b[0mans_vspace\u001b[0m\u001b[0;34m.\u001b[0m\u001b[0mshape\u001b[0m \u001b[0;34m+\u001b[0m \u001b[0mvspace\u001b[0m\u001b[0;34m(\u001b[0m\u001b[0mx\u001b[0m\u001b[0;34m)\u001b[0m\u001b[0;34m.\u001b[0m\u001b[0mshape\u001b[0m\u001b[0;34m\u001b[0m\u001b[0;34m\u001b[0m\u001b[0m\n\u001b[0m\u001b[1;32m     60\u001b[0m     \u001b[0mgrads\u001b[0m \u001b[0;34m=\u001b[0m \u001b[0mmap\u001b[0m\u001b[0;34m(\u001b[0m\u001b[0mvjp\u001b[0m\u001b[0;34m,\u001b[0m \u001b[0mans_vspace\u001b[0m\u001b[0;34m.\u001b[0m\u001b[0mstandard_basis\u001b[0m\u001b[0;34m(\u001b[0m\u001b[0;34m)\u001b[0m\u001b[0;34m)\u001b[0m\u001b[0;34m\u001b[0m\u001b[0;34m\u001b[0m\u001b[0m\n\u001b[1;32m     61\u001b[0m     \u001b[0;32mreturn\u001b[0m \u001b[0mnp\u001b[0m\u001b[0;34m.\u001b[0m\u001b[0mreshape\u001b[0m\u001b[0;34m(\u001b[0m\u001b[0mnp\u001b[0m\u001b[0;34m.\u001b[0m\u001b[0mstack\u001b[0m\u001b[0;34m(\u001b[0m\u001b[0mgrads\u001b[0m\u001b[0;34m)\u001b[0m\u001b[0;34m,\u001b[0m \u001b[0mjacobian_shape\u001b[0m\u001b[0;34m)\u001b[0m\u001b[0;34m\u001b[0m\u001b[0;34m\u001b[0m\u001b[0m\n",
      "\u001b[0;31mTypeError\u001b[0m: can only concatenate list (not \"tuple\") to list"
     ]
    }
   ],
   "source": [
    "jac_dyn(0.,0.,0.,0.,0.,0.,0.)"
   ]
  },
  {
   "cell_type": "code",
   "execution_count": null,
   "metadata": {},
   "outputs": [],
   "source": []
  },
  {
   "cell_type": "code",
   "execution_count": null,
   "metadata": {},
   "outputs": [],
   "source": []
  }
 ],
 "metadata": {
  "kernelspec": {
   "display_name": "Python 3",
   "language": "python",
   "name": "python3"
  },
  "language_info": {
   "codemirror_mode": {
    "name": "ipython",
    "version": 3
   },
   "file_extension": ".py",
   "mimetype": "text/x-python",
   "name": "python",
   "nbconvert_exporter": "python",
   "pygments_lexer": "ipython3",
   "version": "3.7.4"
  }
 },
 "nbformat": 4,
 "nbformat_minor": 2
}
